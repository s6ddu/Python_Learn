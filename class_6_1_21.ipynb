{
  "nbformat": 4,
  "nbformat_minor": 0,
  "metadata": {
    "colab": {
      "name": "class_6.1.21.ipynb",
      "provenance": [],
      "authorship_tag": "ABX9TyOT5EV1TP2CZFvgCS6c+6XV",
      "include_colab_link": true
    },
    "kernelspec": {
      "name": "python3",
      "display_name": "Python 3"
    }
  },
  "cells": [
    {
      "cell_type": "markdown",
      "metadata": {
        "id": "view-in-github",
        "colab_type": "text"
      },
      "source": [
        "<a href=\"https://colab.research.google.com/github/s6ddu/Python_Learn/blob/main/class_6_1_21.ipynb\" target=\"_parent\"><img src=\"https://colab.research.google.com/assets/colab-badge.svg\" alt=\"Open In Colab\"/></a>"
      ]
    },
    {
      "cell_type": "code",
      "metadata": {
        "colab": {
          "base_uri": "https://localhost:8080/"
        },
        "id": "ubSpR2_0rdXw",
        "outputId": "caea1bff-b04e-4f57-d966-43c0967ea5ed"
      },
      "source": [
        "a = 12\r\n",
        "print (\"The value is =\",a)"
      ],
      "execution_count": 6,
      "outputs": [
        {
          "output_type": "stream",
          "text": [
            "The value is = 12\n"
          ],
          "name": "stdout"
        }
      ]
    },
    {
      "cell_type": "code",
      "metadata": {
        "colab": {
          "base_uri": "https://localhost:8080/"
        },
        "id": "Dn5-yRmTum_9",
        "outputId": "1f8efd1b-8715-435c-c2bb-a2551a54af0e"
      },
      "source": [
        "school = (\"prioryrise\")\r\n",
        "print (\"I attend priory rise school\",type(school))\r\n",
        "print (\"The type is\",type(school))"
      ],
      "execution_count": 15,
      "outputs": [
        {
          "output_type": "stream",
          "text": [
            "I attend priory rise school <class 'str'>\n",
            "The type is <class 'str'>\n"
          ],
          "name": "stdout"
        }
      ]
    },
    {
      "cell_type": "code",
      "metadata": {
        "colab": {
          "base_uri": "https://localhost:8080/"
        },
        "id": "_PBUYFu9xzzJ",
        "outputId": "5a909b6d-a22a-4d7c-836a-424c625dc70b"
      },
      "source": [
        "price=\"1234\"\r\n",
        "print (\"the type is\",type(price))\r\n",
        "print (\"Integer Value is\",int(price))"
      ],
      "execution_count": 19,
      "outputs": [
        {
          "output_type": "stream",
          "text": [
            "the type is <class 'str'>\n",
            "Integer Value is 1234\n"
          ],
          "name": "stdout"
        }
      ]
    },
    {
      "cell_type": "code",
      "metadata": {
        "colab": {
          "base_uri": "https://localhost:8080/"
        },
        "id": "zwrAJ4fCzGUY",
        "outputId": "a3802077-d836-4b9f-f319-742574804a3f"
      },
      "source": [
        "price=1234.67\r\n",
        "print (\"The type is\",type(price))\r\n",
        "print(\"The float value is\",float(price))"
      ],
      "execution_count": 21,
      "outputs": [
        {
          "output_type": "stream",
          "text": [
            "The type is <class 'float'>\n",
            "The float value is 1234.67\n"
          ],
          "name": "stdout"
        }
      ]
    },
    {
      "cell_type": "code",
      "metadata": {
        "colab": {
          "base_uri": "https://localhost:8080/"
        },
        "id": "f7Hbk4TX0EBQ",
        "outputId": "a982451c-dd96-4b42-dbd5-fa610be86dac"
      },
      "source": [
        "m=\"589.99\"\r\n",
        "print (m)\r\n",
        "print (\"The type is\",type(m))\r\n",
        "print  (\"The float value is\",float(m))"
      ],
      "execution_count": 25,
      "outputs": [
        {
          "output_type": "stream",
          "text": [
            "589.99\n",
            "The type is <class 'str'>\n",
            "The float value is 589.99\n"
          ],
          "name": "stdout"
        }
      ]
    },
    {
      "cell_type": "code",
      "metadata": {
        "colab": {
          "base_uri": "https://localhost:8080/"
        },
        "id": "q9ln0zcQ18sx",
        "outputId": "51fa40b4-d275-4674-fd4f-e1be172ade35"
      },
      "source": [
        "a=12\r\n",
        "b=2\r\n",
        "print (\"The Value of a+b is =\",a+b)\r\n",
        "print (\"The Value of a-b is =\",a-b)\r\n",
        "print (\"The Value of a*b is =\",a*b)\r\n",
        "print (\"The Value of a/b is =\",a/b)\r\n",
        "print (\"The Value of a%b is =\",a%b)\r\n",
        "print (\"The Value of a**b is =\",a**b)"
      ],
      "execution_count": 31,
      "outputs": [
        {
          "output_type": "stream",
          "text": [
            "The Value of a+b is = 14\n",
            "The Value of a-b is = 10\n",
            "The Value of a*b is = 24\n",
            "The Value of a/b is = 6.0\n",
            "The Value of a%b is = 0\n",
            "The Value of a**b is = 144\n"
          ],
          "name": "stdout"
        }
      ]
    },
    {
      "cell_type": "code",
      "metadata": {
        "colab": {
          "base_uri": "https://localhost:8080/"
        },
        "id": "54ppeLvo368O",
        "outputId": "c7019d60-b3f7-4dd1-9a63-95dfc033d840"
      },
      "source": [
        "a=50\r\n",
        "b=25\r\n",
        "print (\"The Value of a+b is =\",a+b)\r\n",
        "print (\"The Value of a-b is =\",a-b)\r\n",
        "print (\"The Value of a%b is =\",a%b)"
      ],
      "execution_count": 32,
      "outputs": [
        {
          "output_type": "stream",
          "text": [
            "The Value of a+b is = 75\n",
            "The Value of a-b is = 25\n",
            "The Value of a%b is = 0\n"
          ],
          "name": "stdout"
        }
      ]
    },
    {
      "cell_type": "code",
      "metadata": {
        "id": "vFyOxlwa7C11"
      },
      "source": [
        ""
      ],
      "execution_count": null,
      "outputs": []
    },
    {
      "cell_type": "code",
      "metadata": {
        "colab": {
          "base_uri": "https://localhost:8080/"
        },
        "id": "AqliYc885zfS",
        "outputId": "674b6c4c-0370-4a48-a262-fa065ac72a47"
      },
      "source": [
        "var1=60\r\n",
        "var2=7\r\n",
        "print (var1/var2)\r\n",
        "print (var1//var2)\r\n",
        "print (var1%var2)"
      ],
      "execution_count": 33,
      "outputs": [
        {
          "output_type": "stream",
          "text": [
            "8.571428571428571\n",
            "8\n",
            "4\n"
          ],
          "name": "stdout"
        }
      ]
    },
    {
      "cell_type": "code",
      "metadata": {
        "colab": {
          "base_uri": "https://localhost:8080/"
        },
        "id": "Myhs3yx26L8k",
        "outputId": "d581a976-8502-4d13-aeee-6d75c534ec86"
      },
      "source": [
        "a=7\r\n",
        "del a\r\n",
        "print (\"Variable a has been deleted\")"
      ],
      "execution_count": 36,
      "outputs": [
        {
          "output_type": "stream",
          "text": [
            "variable a has been deleted\n"
          ],
          "name": "stdout"
        }
      ]
    },
    {
      "cell_type": "code",
      "metadata": {
        "colab": {
          "base_uri": "https://localhost:8080/"
        },
        "id": "vz6GHl4k7CeN",
        "outputId": "1f24dd0e-8506-40b5-eca2-5b7d256612e5"
      },
      "source": [
        "var1=input(\"Enter your value\")\r\n",
        "print (\"Your entered value is\",var1)\r\n",
        "print (\"The type of the value is\",type(var1))\r\n",
        "print (\"The Integer Value is\",int(var1))"
      ],
      "execution_count": 48,
      "outputs": [
        {
          "output_type": "stream",
          "text": [
            "Enter your value669\n",
            "Your entered value is 669\n",
            "The type of the value is <class 'str'>\n",
            "The Integer Value is 669\n"
          ],
          "name": "stdout"
        }
      ]
    },
    {
      "cell_type": "code",
      "metadata": {
        "colab": {
          "base_uri": "https://localhost:8080/"
        },
        "id": "oEc0bpOs-T44",
        "outputId": "92a7445d-0fe8-48d1-e498-3a3d210b483e"
      },
      "source": [
        "var1=int(input(\"Enter your Integer\"))\r\n",
        "var2=int(input(\"Enter your Integer\"))\r\n",
        "print (var1+var2)\r\n",
        "print (var1-var2)\r\n"
      ],
      "execution_count": 54,
      "outputs": [
        {
          "output_type": "stream",
          "text": [
            "Enter your Integer6\n",
            "Enter your Integer7\n",
            "13\n",
            "-1\n"
          ],
          "name": "stdout"
        }
      ]
    },
    {
      "cell_type": "code",
      "metadata": {
        "id": "yDkrYkad_ctt"
      },
      "source": [
        ""
      ],
      "execution_count": null,
      "outputs": []
    },
    {
      "cell_type": "code",
      "metadata": {
        "id": "nypDwpOI_cv6"
      },
      "source": [
        ""
      ],
      "execution_count": null,
      "outputs": []
    },
    {
      "cell_type": "code",
      "metadata": {
        "id": "Oq2IERno-1tZ"
      },
      "source": [
        ""
      ],
      "execution_count": null,
      "outputs": []
    }
  ]
}