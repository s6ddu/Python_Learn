{
  "nbformat": 4,
  "nbformat_minor": 0,
  "metadata": {
    "colab": {
      "name": "Class.24.2.21.ipynb",
      "provenance": [],
      "collapsed_sections": [],
      "authorship_tag": "ABX9TyPKOrcI7z0m6MLpBT2ueYtb",
      "include_colab_link": true
    },
    "kernelspec": {
      "name": "python3",
      "display_name": "Python 3"
    }
  },
  "cells": [
    {
      "cell_type": "markdown",
      "metadata": {
        "id": "view-in-github",
        "colab_type": "text"
      },
      "source": [
        "<a href=\"https://colab.research.google.com/github/s6ddu/Python_Learn/blob/main/Class_24_2_21.ipynb\" target=\"_parent\"><img src=\"https://colab.research.google.com/assets/colab-badge.svg\" alt=\"Open In Colab\"/></a>"
      ]
    },
    {
      "cell_type": "code",
      "metadata": {
        "colab": {
          "base_uri": "https://localhost:8080/"
        },
        "id": "2a6SCTLGp7K_",
        "outputId": "65ce69c8-ec1e-4d95-ed11-3990873ebaa2"
      },
      "source": [
        "var1=20\n",
        "if (var1>20):\n",
        " print (\"Greater than 20\")\n",
        "elif (var1==20):\n",
        " print (\"Equal to 20\")\n",
        "else :\n",
        " print (\"Less than 20\")"
      ],
      "execution_count": 3,
      "outputs": [
        {
          "output_type": "stream",
          "text": [
            "Equal to 20\n"
          ],
          "name": "stdout"
        }
      ]
    },
    {
      "cell_type": "code",
      "metadata": {
        "colab": {
          "base_uri": "https://localhost:8080/"
        },
        "id": "fUkTtHIlsZS9",
        "outputId": "0d4dc7bc-d701-4144-cb97-f9acb7e372e5"
      },
      "source": [
        "a=float(input(\"Enter your shopping items\"))\n",
        "if (a>15):\n",
        "  print (\"You will be charged $25)\n",
        "elif (a==15):\n",
        "  print (\"You will be charged nothing for shipping\")\n",
        "else :\n",
        "  print (\"You will be charged nothing for shipping\")"
      ],
      "execution_count": 6,
      "outputs": [
        {
          "output_type": "stream",
          "text": [
            "Enter your shopping items27\n",
            "You will be charged 25 pounds\n"
          ],
          "name": "stdout"
        }
      ]
    },
    {
      "cell_type": "code",
      "metadata": {
        "colab": {
          "base_uri": "https://localhost:8080/"
        },
        "id": "iSdSf4fRuzUn",
        "outputId": "6ad69a60-350d-4ac5-8ac2-4859f266099b"
      },
      "source": [
        "s=(input(\"Enter your letter\"))\n",
        "if (s.isupper()):\n",
        " print (\"This is uppercase\")\n",
        "else :\n",
        "  print (\"This is lowercase\")"
      ],
      "execution_count": 20,
      "outputs": [
        {
          "output_type": "stream",
          "text": [
            "Enter your letters\n",
            "This is lowercase\n"
          ],
          "name": "stdout"
        }
      ]
    },
    {
      "cell_type": "code",
      "metadata": {
        "colab": {
          "base_uri": "https://localhost:8080/"
        },
        "id": "UhytOK_Oy4lY",
        "outputId": "73773af5-5860-4818-ab91-3cd28474ea27"
      },
      "source": [
        "h=float(input(\"Enter your number\"))\n",
        "if (h>0):\n",
        "  print (\"This number is positive\")\n",
        "elif (h==0) :\n",
        "  print (\"This number is 0\")\n",
        "else :\n",
        "  print (\"This number is negative\")"
      ],
      "execution_count": 27,
      "outputs": [
        {
          "output_type": "stream",
          "text": [
            "Enter your number-8.5\n",
            "This is negative\n"
          ],
          "name": "stdout"
        }
      ]
    },
    {
      "cell_type": "code",
      "metadata": {
        "colab": {
          "base_uri": "https://localhost:8080/"
        },
        "id": "vW9VSobI1Z8l",
        "outputId": "28efccbd-d342-4968-e79c-adcc12ff74dc"
      },
      "source": [
        "week=float(input(\"Enter a number between 1-7\"))\n",
        "if (week==7):\n",
        "  print (\"It is a Saturday\")\n",
        "elif (week==1):\n",
        " print (\"It is a Sunday\")\n",
        "elif (week==2):\n",
        " print (\"It is a Monday\")\n",
        "elif (week==3):\n",
        "  print (\"It is a Tuesday\")\n",
        "elif (week==4):\n",
        "  print (\"It is a Wednesday\")\n",
        "elif (week==5):\n",
        "  print (\"It is a Thursday\")\n",
        "elif (week==6):\n",
        "  print (\"It is a Friday\")\n",
        "elif (week==7):\n",
        "  print (\"It is a Saturday\")\n",
        "else:\n",
        "  print (\"This number is not between 1 and 7\")"
      ],
      "execution_count": 45,
      "outputs": [
        {
          "output_type": "stream",
          "text": [
            "Enter a number between 1-79\n",
            "This number is not between 1 and 7\n"
          ],
          "name": "stdout"
        }
      ]
    },
    {
      "cell_type": "code",
      "metadata": {
        "colab": {
          "base_uri": "https://localhost:8080/"
        },
        "id": "nFlCJ0b552lH",
        "outputId": "722cea73-62c1-4aed-87ca-c835dd313ce0"
      },
      "source": [
        "string=(input(\"Enter a letter :\"))\n",
        "if (string=='a' or string=='e' or string=='i' or string=='o' or string=='u' or string=='A' or string=='E' or string=='I' or string=='O' or string=='U'):\n",
        " print (\"Your letter is a vowel\")\n",
        "else:\n",
        "  print (\"Your letter is  a consonant\")"
      ],
      "execution_count": 85,
      "outputs": [
        {
          "output_type": "stream",
          "text": [
            "Enter a letter :h\n",
            "Your letter is  a constant\n"
          ],
          "name": "stdout"
        }
      ]
    }
  ]
}