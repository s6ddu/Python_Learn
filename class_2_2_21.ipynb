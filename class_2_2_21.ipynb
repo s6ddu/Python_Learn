{
  "nbformat": 4,
  "nbformat_minor": 0,
  "metadata": {
    "colab": {
      "name": "class_2.2.21.ipynb",
      "provenance": [],
      "collapsed_sections": [],
      "authorship_tag": "ABX9TyN9G9O6KSEEpSx5FVifAxsV",
      "include_colab_link": true
    },
    "kernelspec": {
      "name": "python3",
      "display_name": "Python 3"
    }
  },
  "cells": [
    {
      "cell_type": "markdown",
      "metadata": {
        "id": "view-in-github",
        "colab_type": "text"
      },
      "source": [
        "<a href=\"https://colab.research.google.com/github/s6ddu/Python_Learn/blob/main/class_2_2_21.ipynb\" target=\"_parent\"><img src=\"https://colab.research.google.com/assets/colab-badge.svg\" alt=\"Open In Colab\"/></a>"
      ]
    },
    {
      "cell_type": "code",
      "metadata": {
        "colab": {
          "base_uri": "https://localhost:8080/"
        },
        "id": "Zh-P_Dn4jWan",
        "outputId": "4514d7be-81d4-4133-f820-7ea28f36082e"
      },
      "source": [
        "print ('hello world,you are beautiful!')#Display information using single qoutes"
      ],
      "execution_count": null,
      "outputs": [
        {
          "output_type": "stream",
          "text": [
            "hello world,you are beautiful!\n"
          ],
          "name": "stdout"
        }
      ]
    },
    {
      "cell_type": "code",
      "metadata": {
        "colab": {
          "base_uri": "https://localhost:8080/",
          "height": 35
        },
        "id": "0Y4NEjMLmS9X",
        "outputId": "3d44e8b1-1eb9-420c-fb34-d2b1621edbb3"
      },
      "source": [
        "#single line comment\r\n",
        "'''\r\n",
        "multi\r\n",
        "line\r\n",
        "comment\r\n",
        "'''"
      ],
      "execution_count": null,
      "outputs": [
        {
          "output_type": "execute_result",
          "data": {
            "application/vnd.google.colaboratory.intrinsic+json": {
              "type": "string"
            },
            "text/plain": [
              "'\\nmulti\\nline\\ncomment\\n'"
            ]
          },
          "metadata": {
            "tags": []
          },
          "execution_count": 3
        }
      ]
    },
    {
      "cell_type": "markdown",
      "metadata": {
        "id": "fzOeE8Uxpkke"
      },
      "source": [
        ""
      ]
    },
    {
      "cell_type": "code",
      "metadata": {
        "colab": {
          "base_uri": "https://localhost:8080/"
        },
        "id": "7_qGrWlDplEQ",
        "outputId": "6a277bb2-72e9-432c-8234-71e3fa4d90fb"
      },
      "source": [
        "#Display text using single quotes \r\n",
        "print(\"'hello world, you are beautiful!'\")"
      ],
      "execution_count": null,
      "outputs": [
        {
          "output_type": "stream",
          "text": [
            "'hello world, you are beautiful!'\n"
          ],
          "name": "stdout"
        }
      ]
    },
    {
      "cell_type": "code",
      "metadata": {
        "colab": {
          "base_uri": "https://localhost:8080/"
        },
        "id": "Dx_mxtnRq5xP",
        "outputId": "d8437f4a-3217-41f8-f6ad-1c8158f96438"
      },
      "source": [
        "#Display text using double quotes \r\n",
        "print('\"hello world you are beautiful\"')"
      ],
      "execution_count": null,
      "outputs": [
        {
          "output_type": "stream",
          "text": [
            "\"hello world you are beautiful\"\n"
          ],
          "name": "stdout"
        }
      ]
    },
    {
      "cell_type": "code",
      "metadata": {
        "colab": {
          "base_uri": "https://localhost:8080/"
        },
        "id": "vGjPsP8CsCU7",
        "outputId": "2fa1bb67-0ede-47d0-db6b-fd5621600880"
      },
      "source": [
        "#Question:Display a message\r\n",
        "#Hello\r\n",
        "#Python Lovers\r\n",
        "print (\"Hello\\nPython\\tLovers\")"
      ],
      "execution_count": null,
      "outputs": [
        {
          "output_type": "stream",
          "text": [
            "Hello\n",
            "Python\tLovers\n"
          ],
          "name": "stdout"
        }
      ]
    },
    {
      "cell_type": "code",
      "metadata": {
        "colab": {
          "base_uri": "https://localhost:8080/"
        },
        "id": "DngOq__Uuvr5",
        "outputId": "df62f7ec-09f4-479c-b1f5-c8b245545a30"
      },
      "source": [
        "print (\"It's a sunny day\")"
      ],
      "execution_count": null,
      "outputs": [
        {
          "output_type": "stream",
          "text": [
            "It's a sunny day\n"
          ],
          "name": "stdout"
        }
      ]
    },
    {
      "cell_type": "code",
      "metadata": {
        "id": "-GlXdBcMtcBJ"
      },
      "source": [
        "#\\"
      ],
      "execution_count": null,
      "outputs": []
    },
    {
      "cell_type": "code",
      "metadata": {
        "colab": {
          "base_uri": "https://localhost:8080/"
        },
        "id": "v5dBalbhqrPE",
        "outputId": "2307182a-b95f-431b-ec1f-9a4bcd88e86a"
      },
      "source": [
        "print (\"Hello\\nPython\\tLovers\")"
      ],
      "execution_count": null,
      "outputs": [
        {
          "output_type": "stream",
          "text": [
            "Hello\n",
            "Python\tLovers\n"
          ],
          "name": "stdout"
        }
      ]
    },
    {
      "cell_type": "code",
      "metadata": {
        "colab": {
          "base_uri": "https://localhost:8080/"
        },
        "id": "EBT-BVS9w8ve",
        "outputId": "53ea3338-da8c-4412-dfed-cc00479ec5f3"
      },
      "source": [
        "print (\"\"\"Hello\r\n",
        "hi\r\n",
        "world\"\"\")"
      ],
      "execution_count": null,
      "outputs": [
        {
          "output_type": "stream",
          "text": [
            "Hello\n",
            "hi\n",
            "world\n"
          ],
          "name": "stdout"
        }
      ]
    },
    {
      "cell_type": "code",
      "metadata": {
        "colab": {
          "base_uri": "https://localhost:8080/"
        },
        "id": "wUo0C6GAyLET",
        "outputId": "3b289394-fcc6-4e66-e733-e356eee2f283"
      },
      "source": [
        "y=15\r\n",
        "x=3\r\n",
        "print (y)"
      ],
      "execution_count": null,
      "outputs": [
        {
          "output_type": "stream",
          "text": [
            "15\n"
          ],
          "name": "stdout"
        }
      ]
    },
    {
      "cell_type": "code",
      "metadata": {
        "colab": {
          "base_uri": "https://localhost:8080/"
        },
        "id": "GrBHnadqy0AV",
        "outputId": "0cd98366-a7b2-4db9-f461-bbdaf8f682d4"
      },
      "source": [
        "p=567\r\n",
        "print (p)"
      ],
      "execution_count": null,
      "outputs": [
        {
          "output_type": "stream",
          "text": [
            "567\n"
          ],
          "name": "stdout"
        }
      ]
    },
    {
      "cell_type": "code",
      "metadata": {
        "colab": {
          "base_uri": "https://localhost:8080/"
        },
        "id": "aH0qDZlK0Fmi",
        "outputId": "773376a5-4cb5-43a4-f535-64b3ca5fd14b"
      },
      "source": [
        "print (\"Value is :\",p)"
      ],
      "execution_count": null,
      "outputs": [
        {
          "output_type": "stream",
          "text": [
            "Value is : 567\n"
          ],
          "name": "stdout"
        }
      ]
    },
    {
      "cell_type": "code",
      "metadata": {
        "colab": {
          "base_uri": "https://localhost:8080/"
        },
        "id": "jbS5Rpb_0ixh",
        "outputId": "71502423-3ba8-4675-dd0d-0032fe0a0ec4"
      },
      "source": [
        "x=45567\r\n",
        "t=67890\r\n",
        "print (\"The value of t is:\", t)\r\n",
        "print (\"The value of x is:\", x)"
      ],
      "execution_count": null,
      "outputs": [
        {
          "output_type": "stream",
          "text": [
            "The value of t is: 67890\n",
            "The value of x is: 45567\n"
          ],
          "name": "stdout"
        }
      ]
    },
    {
      "cell_type": "markdown",
      "metadata": {
        "id": "r38RFEsbqLOA"
      },
      "source": [
        ""
      ]
    },
    {
      "cell_type": "markdown",
      "metadata": {
        "id": "auGXLqxAnN2o"
      },
      "source": [
        "comment lines: single line comment and multi line comment\r\n"
      ]
    }
  ]
}