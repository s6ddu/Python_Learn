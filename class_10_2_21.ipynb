{
  "nbformat": 4,
  "nbformat_minor": 0,
  "metadata": {
    "colab": {
      "name": "class 10.2.21",
      "provenance": [],
      "authorship_tag": "ABX9TyMeDjdJOavrXJsSTtgyCoJH",
      "include_colab_link": true
    },
    "kernelspec": {
      "name": "python3",
      "display_name": "Python 3"
    }
  },
  "cells": [
    {
      "cell_type": "markdown",
      "metadata": {
        "id": "view-in-github",
        "colab_type": "text"
      },
      "source": [
        "<a href=\"https://colab.research.google.com/github/s6ddu/Python_Learn/blob/main/class_10_2_21.ipynb\" target=\"_parent\"><img src=\"https://colab.research.google.com/assets/colab-badge.svg\" alt=\"Open In Colab\"/></a>"
      ]
    },
    {
      "cell_type": "code",
      "metadata": {
        "colab": {
          "base_uri": "https://localhost:8080/"
        },
        "id": "b2ZFxlWlkTJq",
        "outputId": "30c1dd71-67c9-44f2-94b2-e17da1d4b1d8"
      },
      "source": [
        "\r\n",
        "var3=float(input(\"Enter your Value\"))\r\n",
        "varb=float(input(\"Enter your Value\"))\r\n",
        "print (\"The addition is\",var3+varb)\r\n",
        "print (\"The subtraction is\",var3-varb)\r\n",
        "print (\"The multiplication is\",var3*varb)\r\n",
        "print (\"The division is \",var3/varb)"
      ],
      "execution_count": null,
      "outputs": [
        {
          "output_type": "stream",
          "text": [
            "Enter your Value3.2\n",
            "Enter your Value4.3\n",
            "The addition is 7.5\n",
            "The subtraction is -1.0999999999999996\n",
            "The multiplication is 13.76\n",
            "The division is  0.744186046511628\n"
          ],
          "name": "stdout"
        }
      ]
    },
    {
      "cell_type": "code",
      "metadata": {
        "colab": {
          "base_uri": "https://localhost:8080/"
        },
        "id": "BglneZwSqfc7",
        "outputId": "6d634bf9-0924-4d8f-bb15-0d409a06c48e"
      },
      "source": [
        "var2=float(input(\"Enter your Value\"))\r\n",
        "var4=float(input(\"Enter your Value\"))\r\n",
        "print (\"The average is\",(var2 + var4)/2)"
      ],
      "execution_count": null,
      "outputs": [
        {
          "output_type": "stream",
          "text": [
            "Enter your Value6.2\n",
            "Enter your Value7.5\n",
            "The average is 6.85\n"
          ],
          "name": "stdout"
        }
      ]
    },
    {
      "cell_type": "code",
      "metadata": {
        "id": "SAa3a6J51-Kt"
      },
      "source": [
        "a=int(input(\"Enter your Value\"))\r\n",
        " "
      ],
      "execution_count": null,
      "outputs": []
    }
  ]
}