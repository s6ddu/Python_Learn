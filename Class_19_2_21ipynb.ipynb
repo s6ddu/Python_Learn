{
  "nbformat": 4,
  "nbformat_minor": 0,
  "metadata": {
    "colab": {
      "name": "Class.19.2.21ipynb",
      "provenance": [],
      "collapsed_sections": [],
      "authorship_tag": "ABX9TyPFjNTg9zxaV23KJULMZdeV",
      "include_colab_link": true
    },
    "kernelspec": {
      "name": "python3",
      "display_name": "Python 3"
    }
  },
  "cells": [
    {
      "cell_type": "markdown",
      "metadata": {
        "id": "view-in-github",
        "colab_type": "text"
      },
      "source": [
        "<a href=\"https://colab.research.google.com/github/s6ddu/Python_Learn/blob/main/Class_19_2_21ipynb.ipynb\" target=\"_parent\"><img src=\"https://colab.research.google.com/assets/colab-badge.svg\" alt=\"Open In Colab\"/></a>"
      ]
    },
    {
      "cell_type": "code",
      "metadata": {
        "colab": {
          "base_uri": "https://localhost:8080/"
        },
        "id": "XnWxfs8gyUi1",
        "outputId": "c432d928-4015-4162-a0b0-e01281aff731"
      },
      "source": [
        "x=float(input(\"Enter your chosen numbers of hours\"))\n",
        "z=60\n",
        "print (\"The munber of hours you have chosen converted to minutes is\",x*z)"
      ],
      "execution_count": 7,
      "outputs": [
        {
          "output_type": "stream",
          "text": [
            "Enter your numbers of hours8\n",
            "The munber of hours you have chosen converted to minutes is 480.0\n"
          ],
          "name": "stdout"
        }
      ]
    },
    {
      "cell_type": "code",
      "metadata": {
        "colab": {
          "base_uri": "https://localhost:8080/"
        },
        "id": "gBRCBhEH183h",
        "outputId": "9d7d50b1-0287-499f-cfa5-3639dea08772"
      },
      "source": [
        "str1=\"Friendx\"\n",
        "maximum=max(str1)\n",
        "print (\"The largest alphabet is :\",maximum)"
      ],
      "execution_count": 15,
      "outputs": [
        {
          "output_type": "stream",
          "text": [
            "The largest alphabet is : x\n"
          ],
          "name": "stdout"
        }
      ]
    },
    {
      "cell_type": "code",
      "metadata": {
        "colab": {
          "base_uri": "https://localhost:8080/"
        },
        "id": "atptQ0vP23GE",
        "outputId": "60dd1a2c-0963-4a94-92a0-c23890c26ec1"
      },
      "source": [
        "str1=\"Afriendx\"\n",
        "minimum=min(str1)\n",
        "print (\"The smallest alphabet is :\",minimum)"
      ],
      "execution_count": 18,
      "outputs": [
        {
          "output_type": "stream",
          "text": [
            "The smallest alphabet is : A\n"
          ],
          "name": "stdout"
        }
      ]
    },
    {
      "cell_type": "code",
      "metadata": {
        "colab": {
          "base_uri": "https://localhost:8080/"
        },
        "id": "Gvgu109U4WHy",
        "outputId": "2843e014-4e15-40d8-f227-6ed6cb61f7e7"
      },
      "source": [
        "var1=str(input(\"Enter your word\"))\n",
        "var2=str(input(\"Enter your word\"))\n",
        "var9=var1+var2\n",
        "print (\"The concatenated string is\",var9)\n",
        "maximum=max(var9)\n",
        "minimum=min(var9)\n",
        "print (\"The largest alphabet is :\",maximum)\n",
        "print (\"The smallest alphabeti s :\",minimum)"
      ],
      "execution_count": 22,
      "outputs": [
        {
          "output_type": "stream",
          "text": [
            "Enter your wordgood\n",
            "Enter your wordmorning\n",
            "The concatenated string is goodmorning\n",
            "The largest alphabet is : r\n",
            "The smallest alphabeti s : d\n"
          ],
          "name": "stdout"
        }
      ]
    },
    {
      "cell_type": "code",
      "metadata": {
        "colab": {
          "base_uri": "https://localhost:8080/"
        },
        "id": "FMuesdik7PQa",
        "outputId": "14a66114-2481-4dc6-aad9-c54dd37126aa"
      },
      "source": [
        "num=int(input(\"Enter your number\"))\n",
        "if (num>10):\n",
        "  print (\"Greater than 10\")\n",
        "else:\n",
        " print (\"Less than 10\")"
      ],
      "execution_count": 24,
      "outputs": [
        {
          "output_type": "stream",
          "text": [
            "Enter your number900\n",
            "Greater than 10\n"
          ],
          "name": "stdout"
        }
      ]
    },
    {
      "cell_type": "code",
      "metadata": {
        "colab": {
          "base_uri": "https://localhost:8080/"
        },
        "id": "2qh2Ff1q8Vh6",
        "outputId": "f3b1a369-3cac-456d-b494-09fc375f62a0"
      },
      "source": [
        "a=int(input(\"Enter your number\"))\n",
        "b=int(input(\"Enter your number\"))\n",
        "if (a>b):\n",
        "  print (\"A is greater than B\")\n",
        "else:\n",
        "  print (\"B is greater than A\")"
      ],
      "execution_count": 28,
      "outputs": [
        {
          "output_type": "stream",
          "text": [
            "Enter your number9\n",
            "Enter your number9\n",
            "B is greater than A\n"
          ],
          "name": "stdout"
        }
      ]
    },
    {
      "cell_type": "code",
      "metadata": {
        "colab": {
          "base_uri": "https://localhost:8080/"
        },
        "id": "WLklpWqj-MjL",
        "outputId": "9e2781e7-d7f7-4214-b779-af640334c0a8"
      },
      "source": [
        "a=int(input(\"Enter your number\"))\n",
        "if (a<0):\n",
        " print (\"It is a negative number\")\n",
        "else:\n",
        "  print (\"It is a positive number\")"
      ],
      "execution_count": 33,
      "outputs": [
        {
          "output_type": "stream",
          "text": [
            "Enter your number-9\n",
            "It is a negative number\n"
          ],
          "name": "stdout"
        }
      ]
    },
    {
      "cell_type": "code",
      "metadata": {
        "colab": {
          "base_uri": "https://localhost:8080/"
        },
        "id": "2dVzOplx_u3U",
        "outputId": "98bb7395-523e-4622-8433-31c35ba9c7eb"
      },
      "source": [
        "z=int(input(\"Enter your number\"))\n",
        "if (z % 2 == 0):\n",
        " print (\"The number is even\")\n",
        "else:\n",
        "   print (\"The number is odd\")"
      ],
      "execution_count": 40,
      "outputs": [
        {
          "output_type": "stream",
          "text": [
            "Enter your number7\n",
            "The number is odd\n"
          ],
          "name": "stdout"
        }
      ]
    },
    {
      "cell_type": "code",
      "metadata": {
        "colab": {
          "base_uri": "https://localhost:8080/"
        },
        "id": "bs8Nl9dSBzyE",
        "outputId": "a37053c5-6d14-4020-c22b-01e8651212ec"
      },
      "source": [
        "s=int(input(\"Enter your age\"))\n",
        "if (s<18):\n",
        "  print (\"You are not eligible to vote\")\n",
        "  print (\"You still need to wait this many years:\",18-s)\n",
        "else:\n",
        "  print (\"You are eligible to vote\")"
      ],
      "execution_count": 49,
      "outputs": [
        {
          "output_type": "stream",
          "text": [
            "Enter your age9\n",
            "You are not eligible to vote\n",
            "You still need to wait this many years: 9\n"
          ],
          "name": "stdout"
        }
      ]
    },
    {
      "cell_type": "code",
      "metadata": {
        "colab": {
          "base_uri": "https://localhost:8080/"
        },
        "id": "Dmxh9OqYDj0m",
        "outputId": "8ef55232-2275-41d8-8396-740f8bc5e10a"
      },
      "source": [
        "x=(input(\"Enter your chosen word\"))\n",
        "if (len(x)<11):\n",
        " print (\"This word's characters do not surpass 11\")\n",
        "else:\n",
        "  print (\"This word's characters surpass 11\")"
      ],
      "execution_count": 56,
      "outputs": [
        {
          "output_type": "stream",
          "text": [
            "Enter your chosen wordwerewolfmake noise\n",
            "This word's characters surpass 11\n"
          ],
          "name": "stdout"
        }
      ]
    }
  ]
}