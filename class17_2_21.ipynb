{
  "nbformat": 4,
  "nbformat_minor": 0,
  "metadata": {
    "colab": {
      "name": "class17.2.21.ipynb",
      "provenance": [],
      "authorship_tag": "ABX9TyOKHYZDhGYUdumHngYY14hG",
      "include_colab_link": true
    },
    "kernelspec": {
      "name": "python3",
      "display_name": "Python 3"
    }
  },
  "cells": [
    {
      "cell_type": "markdown",
      "metadata": {
        "id": "view-in-github",
        "colab_type": "text"
      },
      "source": [
        "<a href=\"https://colab.research.google.com/github/s6ddu/Python_Learn/blob/main/class17_2_21.ipynb\" target=\"_parent\"><img src=\"https://colab.research.google.com/assets/colab-badge.svg\" alt=\"Open In Colab\"/></a>"
      ]
    },
    {
      "cell_type": "code",
      "metadata": {
        "colab": {
          "base_uri": "https://localhost:8080/"
        },
        "id": "fdkI0B1Vn5f-",
        "outputId": "0cb6fd53-0735-4f5a-b34e-17d7fed527b0"
      },
      "source": [
        "var1=float(input(\"Enter your Radius\"))\n",
        "var2= 3.14\n",
        "print (\"The circumference is\",var1*var2*2)"
      ],
      "execution_count": null,
      "outputs": [
        {
          "output_type": "stream",
          "text": [
            "Enter your Radius5\n",
            "The circumference is 31.400000000000002\n"
          ],
          "name": "stdout"
        }
      ]
    },
    {
      "cell_type": "code",
      "metadata": {
        "colab": {
          "base_uri": "https://localhost:8080/"
        },
        "id": "R3GzRfzrqoXE",
        "outputId": "933b02c4-21e3-480e-978b-68971f3165cf"
      },
      "source": [
        "a=float(input(\"Enter your radius\"))\n",
        "b=3.14\n",
        "print (\"The area is\",b*a*a )"
      ],
      "execution_count": null,
      "outputs": [
        {
          "output_type": "stream",
          "text": [
            "Enter your radius5\n",
            "The area is 78.5\n"
          ],
          "name": "stdout"
        }
      ]
    },
    {
      "cell_type": "code",
      "metadata": {
        "colab": {
          "base_uri": "https://localhost:8080/"
        },
        "id": "3zC-75Xfuvy2",
        "outputId": "ad9af92e-0c72-4dfe-a91a-1ec4696f8485"
      },
      "source": [
        "s=9\n",
        "s+=8\n",
        "print (\"The updated value of s is\",s)\n",
        "s-=3\n",
        "print (\"The updated value of s is\",s)\n",
        "s*=5\n",
        "print (\"The updated value of s is\",s)\n",
        "s/=3\n",
        "print (\"The updated value of s is\",s)\n"
      ],
      "execution_count": null,
      "outputs": [
        {
          "output_type": "stream",
          "text": [
            "The updated value of s is 17\n",
            "The updated value of s is 14\n",
            "The updated value of s is 70\n",
            "The updated value of s is 23.333333333333332\n"
          ],
          "name": "stdout"
        }
      ]
    },
    {
      "cell_type": "code",
      "metadata": {
        "colab": {
          "base_uri": "https://localhost:8080/"
        },
        "id": "XN5nfdoJysXV",
        "outputId": "98f88b41-1e94-47b9-f599-630cf04b97f3"
      },
      "source": [
        "str1= \"Hello UK\"\n",
        "len=len(str1)\n",
        "print (\"The length is\",len)"
      ],
      "execution_count": null,
      "outputs": [
        {
          "output_type": "stream",
          "text": [
            "The length is 8\n"
          ],
          "name": "stdout"
        }
      ]
    },
    {
      "cell_type": "code",
      "metadata": {
        "id": "ZiT1ozpDwcQB"
      },
      "source": [
        ""
      ],
      "execution_count": null,
      "outputs": []
    }
  ]
}