{
  "nbformat": 4,
  "nbformat_minor": 0,
  "metadata": {
    "colab": {
      "name": "Class 6.02.2021.ipynb",
      "provenance": [],
      "collapsed_sections": [],
      "include_colab_link": true
    },
    "kernelspec": {
      "name": "python3",
      "display_name": "Python 3"
    }
  },
  "cells": [
    {
      "cell_type": "markdown",
      "metadata": {
        "id": "view-in-github",
        "colab_type": "text"
      },
      "source": [
        "<a href=\"https://colab.research.google.com/github/s6ddu/Python_Learn/blob/main/Class_6_02_2021.ipynb\" target=\"_parent\"><img src=\"https://colab.research.google.com/assets/colab-badge.svg\" alt=\"Open In Colab\"/></a>"
      ]
    },
    {
      "cell_type": "code",
      "metadata": {
        "colab": {
          "base_uri": "https://localhost:8080/"
        },
        "id": "NlNBYa66r54U",
        "outputId": "12b8a98c-937f-4029-de83-78533b8dc4c7"
      },
      "source": [
        "a=12 #a is a variable that stores 12 which is a whole number (Integer)\r\n",
        "print(\"The value is =\",a) #variable name-a"
      ],
      "execution_count": null,
      "outputs": [
        {
          "output_type": "stream",
          "text": [
            "The value is = 12\n"
          ],
          "name": "stdout"
        }
      ]
    },
    {
      "cell_type": "code",
      "metadata": {
        "colab": {
          "base_uri": "https://localhost:8080/"
        },
        "id": "NWRJgVdFsjgc",
        "outputId": "54235cd6-0a1f-4e52-f835-87ba995e3440"
      },
      "source": [
        "name='Shawni' #name variable stores characters (letters), (String)\r\n",
        "print('My name is=',name) #variable name-name\r\n"
      ],
      "execution_count": null,
      "outputs": [
        {
          "output_type": "stream",
          "text": [
            "My name is= Shawni\n"
          ],
          "name": "stdout"
        }
      ]
    },
    {
      "cell_type": "code",
      "metadata": {
        "colab": {
          "base_uri": "https://localhost:8080/"
        },
        "id": "ZoMiohXAsuEr",
        "outputId": "50b3e22a-a8f2-4e72-b852-f9fb1cb4aba8"
      },
      "source": [
        "price=12.67 #price is a variable that stores 12.67 which is a fraction value (float)\r\n",
        "print('The price is =',price) #variable name-price"
      ],
      "execution_count": null,
      "outputs": [
        {
          "output_type": "stream",
          "text": [
            "The price is = 12.67\n"
          ],
          "name": "stdout"
        }
      ]
    },
    {
      "cell_type": "code",
      "metadata": {
        "colab": {
          "base_uri": "https://localhost:8080/"
        },
        "id": "iDUVJbc2uC6c",
        "outputId": "d3cfb8a7-40ee-4961-b081-2473aabbeac6"
      },
      "source": [
        "#Determine the type of the variable\r\n",
        "a=567\r\n",
        "#type(variable_name) is a function that determines the data type of the variable\r\n",
        "print(\"The type is\",type(a))"
      ],
      "execution_count": null,
      "outputs": [
        {
          "output_type": "stream",
          "text": [
            "The type is <class 'int'>\n"
          ],
          "name": "stdout"
        }
      ]
    },
    {
      "cell_type": "code",
      "metadata": {
        "colab": {
          "base_uri": "https://localhost:8080/"
        },
        "id": "2_1OmccEudf_",
        "outputId": "4e51edbb-139d-4d60-a1de-4bc7f8bf6846"
      },
      "source": [
        "#Assign your school name into a variable school\r\n",
        "#print the value of the variable\r\n",
        "#print the type of the variable\r\n",
        "school=\"Sun Rise\"\r\n",
        "print(\"School Name is\", school)\r\n",
        "print(\"The type is\",type(school))\r\n"
      ],
      "execution_count": null,
      "outputs": [
        {
          "output_type": "stream",
          "text": [
            "School Name is Sun Rise\n",
            "The type is <class 'str'>\n"
          ],
          "name": "stdout"
        }
      ]
    },
    {
      "cell_type": "code",
      "metadata": {
        "colab": {
          "base_uri": "https://localhost:8080/"
        },
        "id": "NSTftjyzxaJ8",
        "outputId": "7cb7b2e7-674a-40c7-cafd-a5afd4a30e96"
      },
      "source": [
        "price='1234'\r\n",
        "print('The type is',type(price))\r\n",
        "#Convert a string to integer\r\n",
        "print('Integer Value is',int(price))\r\n"
      ],
      "execution_count": null,
      "outputs": [
        {
          "output_type": "stream",
          "text": [
            "The type is <class 'str'>\n",
            "Interger Value is 1234\n"
          ],
          "name": "stdout"
        }
      ]
    },
    {
      "cell_type": "code",
      "metadata": {
        "colab": {
          "base_uri": "https://localhost:8080/"
        },
        "id": "2m7eN9SNy4L1",
        "outputId": "2a573173-be02-4d8d-8e65-c293cdb63318"
      },
      "source": [
        "price=1234\r\n",
        "print('The type is',type(price))\r\n",
        "#convert an integer to string\r\n",
        "print('The string value is',str(price))"
      ],
      "execution_count": null,
      "outputs": [
        {
          "output_type": "stream",
          "text": [
            "The type is <class 'int'>\n",
            "The string value is 1234\n"
          ],
          "name": "stdout"
        }
      ]
    },
    {
      "cell_type": "code",
      "metadata": {
        "colab": {
          "base_uri": "https://localhost:8080/"
        },
        "id": "facdmWhFzV3Z",
        "outputId": "2d22ea7c-1d8b-44c5-ad7d-58b22c00f765"
      },
      "source": [
        "price='1234.67'\r\n",
        "print('The type is',type(price))\r\n",
        "#Convert a string into float\r\n",
        "print('The float value is',float(price))"
      ],
      "execution_count": null,
      "outputs": [
        {
          "output_type": "stream",
          "text": [
            "The type is <class 'str'>\n",
            "The float value is 1234.67\n"
          ],
          "name": "stdout"
        }
      ]
    },
    {
      "cell_type": "code",
      "metadata": {
        "colab": {
          "base_uri": "https://localhost:8080/"
        },
        "id": "qrwMnFqlz87E",
        "outputId": "bf910e19-dcf0-4301-ad33-a7ad7452005b"
      },
      "source": [
        "#Take a variable m and assign the number '589.99' to it. \r\n",
        "#print the value of m\r\n",
        "#print the type of m\r\n",
        "#Convert m into float value\r\n",
        "m='589.99'\r\n",
        "print('The value is =',m)\r\n",
        "print('The type is =',type(m))\r\n",
        "print('The float value is',float(m))"
      ],
      "execution_count": null,
      "outputs": [
        {
          "output_type": "stream",
          "text": [
            "The value is = 589.99\n",
            "The type is = <class 'str'>\n",
            "The float value is 589.99\n"
          ],
          "name": "stdout"
        }
      ]
    },
    {
      "cell_type": "code",
      "metadata": {
        "id": "xJ5CnWPw17ug"
      },
      "source": [
        "#Arithmetic Operators: +, -, *, /,%, **\r\n",
        "a=4\r\n",
        "b=2\r\n",
        "print(\"The Value of a+b is =\",a+b)\r\n",
        "print(\"The Value of a-b is =\",a-b)\r\n",
        "print(\"The value of a*b is =\",a*b)\r\n",
        "print(\"The value of a/b is =\",a/b)\r\n",
        "print(\"The value of a%b is =\",a%b)\r\n",
        "print(\"The value of a to the power b is=\",a**b)"
      ],
      "execution_count": null,
      "outputs": []
    },
    {
      "cell_type": "markdown",
      "metadata": {
        "id": "ClZo4ttE3wsE"
      },
      "source": [
        ""
      ]
    },
    {
      "cell_type": "code",
      "metadata": {
        "colab": {
          "base_uri": "https://localhost:8080/"
        },
        "id": "uf2veEM03xeN",
        "outputId": "0f6854ac-71af-4017-a243-4c0380e2de41"
      },
      "source": [
        "#Take a number 50\r\n",
        "#Take another number 25\r\n",
        "#Print the addition\r\n",
        "#print the subtraction\r\n",
        "#print the remainder \r\n",
        "var1=50\r\n",
        "var2=25\r\n",
        "print(\"Addition is \",var1+var2)\r\n",
        "print(\"Subtraction is\", var1-var2)\r\n",
        "print(\"Remainder is\",var1%var2)"
      ],
      "execution_count": null,
      "outputs": [
        {
          "output_type": "stream",
          "text": [
            "Addition is  75\n",
            "Subtraction is 25\n",
            "Remainder is 0\n"
          ],
          "name": "stdout"
        }
      ]
    },
    {
      "cell_type": "code",
      "metadata": {
        "colab": {
          "base_uri": "https://localhost:8080/"
        },
        "id": "tAqKAi1L5QCc",
        "outputId": "b87b84b0-722c-4bb0-fef4-f5c74e395d10"
      },
      "source": [
        "#// Operator\r\n",
        "var1=60\r\n",
        "var2=7\r\n",
        "print(var1/var2)\r\n",
        "print(var1//var2) #Returns the Quotient value\r\n",
        "print(var1%var2) #Returns the remainder value"
      ],
      "execution_count": null,
      "outputs": [
        {
          "output_type": "stream",
          "text": [
            "8.571428571428571\n",
            "8\n",
            "4\n"
          ],
          "name": "stdout"
        }
      ]
    },
    {
      "cell_type": "code",
      "metadata": {
        "colab": {
          "base_uri": "https://localhost:8080/"
        },
        "id": "lqYTxN8u6Kq0",
        "outputId": "ac9f1a99-a3c9-48e3-966b-0f4a9e746f14"
      },
      "source": [
        "#How to delete a variable\r\n",
        "a=7\r\n",
        "del a #del is used to delete a variable\r\n",
        "print(\"Variable a has been deleted\")"
      ],
      "execution_count": null,
      "outputs": [
        {
          "output_type": "stream",
          "text": [
            "Variable a has been deleted\n"
          ],
          "name": "stdout"
        }
      ]
    },
    {
      "cell_type": "code",
      "metadata": {
        "colab": {
          "base_uri": "https://localhost:8080/"
        },
        "id": "qzGvHvxm67mv",
        "outputId": "b8152611-3eda-449b-94e1-60a432dc4749"
      },
      "source": [
        "#How to take input from user\r\n",
        "var1=input('Enter Your Value ')\r\n",
        "print('Your Entered value is',var1)\r\n",
        "print('The type is',type(var1))"
      ],
      "execution_count": null,
      "outputs": [
        {
          "output_type": "stream",
          "text": [
            "Enter Your Value rty\n",
            "Your Entered value is rty\n",
            "The type is <class 'str'>\n"
          ],
          "name": "stdout"
        }
      ]
    },
    {
      "cell_type": "code",
      "metadata": {
        "colab": {
          "base_uri": "https://localhost:8080/"
        },
        "id": "d0nY-5UI70pn",
        "outputId": "aae75e80-de74-4312-a4be-2d0c8292fa62"
      },
      "source": [
        "#Take an integer number as an input from the user\r\n",
        "#print the value of the input\r\n",
        "#Convert the input into integer\r\n",
        "var=input(\"Enter a Value \")\r\n",
        "print (\"Your Entered value is \",var)\r\n",
        "print (\"Integer value is\",int(var))"
      ],
      "execution_count": null,
      "outputs": [
        {
          "output_type": "stream",
          "text": [
            "Enter a Value 1234\n",
            "Your Entered value is  1234\n",
            "Integer value is 1234\n"
          ],
          "name": "stdout"
        }
      ]
    },
    {
      "cell_type": "code",
      "metadata": {
        "colab": {
          "base_uri": "https://localhost:8080/"
        },
        "id": "j0AhNgTb95-x",
        "outputId": "f7ffb525-7586-4d07-9b43-f2b7e4965910"
      },
      "source": [
        "var=int(input(\"Enter an integer :\"))\r\n",
        "print(\"The value is\", var)\r\n",
        "print (\"The type is \",type(var))"
      ],
      "execution_count": null,
      "outputs": [
        {
          "output_type": "stream",
          "text": [
            "Enter an integer :1234\n",
            "The value is 1234\n",
            "The type is  <class 'int'>\n"
          ],
          "name": "stdout"
        }
      ]
    },
    {
      "cell_type": "code",
      "metadata": {
        "colab": {
          "base_uri": "https://localhost:8080/"
        },
        "id": "zl0FQh5P-Of2",
        "outputId": "a1f11801-c1f6-4db6-ba35-79f4f0b5ec21"
      },
      "source": [
        "#Take two integer variables from user\r\n",
        "#print the addition and subtraction\r\n",
        "var1=int(input(\"Enter first number\"))\r\n",
        "var2=int(input(\"Enter second number\"))\r\n",
        "print(\"Var1+var2= \",var1+var2)\r\n",
        "print(\"Var1-var2= \",var1-var2)"
      ],
      "execution_count": null,
      "outputs": [
        {
          "output_type": "stream",
          "text": [
            "Enter first number12\n",
            "Enter second number45\n",
            "Var1+var2=  57\n",
            "Var1-var2=  -33\n"
          ],
          "name": "stdout"
        }
      ]
    }
  ]
}